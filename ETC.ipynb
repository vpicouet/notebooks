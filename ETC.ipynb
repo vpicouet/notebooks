{
 "cells": [
  {
   "cell_type": "code",
   "execution_count": 5,
   "metadata": {},
   "outputs": [],
   "source": [
    "from ipywidgets import Button, Layout, jslink, IntText, IntSlider\n",
    "%matplotlib widget\n",
    "import ipywidgets as widgets\n",
    "import matplotlib.pyplot as plt\n",
    "import numpy as np\n",
    "def create_expanded_button(description, button_style):\n",
    "    return Button(description=description, button_style=button_style, layout=Layout(height='auto', width='auto'))\n"
   ]
  },
  {
   "cell_type": "code",
   "execution_count": 60,
   "metadata": {},
   "outputs": [
    {
     "name": "stderr",
     "output_type": "stream",
     "text": [
      "/var/folders/m8/f6l41h_51qxdzrz8p1xqr3f80000gp/T/ipykernel_49855/311187737.py:18: DeprecationWarning: inspect.getargspec() is deprecated since Python 3.0, use inspect.signature() or inspect.getfullargspec()\n",
      "  names, varargs, keywords, defaults = inspect.getargspec(func)\n"
     ]
    }
   ],
   "source": [
    "import numpy as np\n",
    "import matplotlib.pyplot as plt\n",
    "from functools import wraps\n",
    "import inspect\n",
    "\n",
    "def initializer(func):\n",
    "    \"\"\"\n",
    "    Automatically assigns the parameters.\n",
    "\n",
    "    >>> class process:\n",
    "    ...     @initializer\n",
    "    ...     def __init__(self, cmd, reachable=False, user='root'):\n",
    "    ...         pass\n",
    "    >>> p = process('halt', True)\n",
    "    >>> p.cmd, p.reachable, p.user\n",
    "    ('halt', True, 'root')\n",
    "    \"\"\"\n",
    "    names, varargs, keywords, defaults = inspect.getargspec(func)\n",
    "\n",
    "    @wraps(func)\n",
    "    def wrapper(self, *args, **kargs):\n",
    "        for name, arg in list(zip(names[1:], args)) + list(kargs.items()):\n",
    "            setattr(self, name, arg)\n",
    "\n",
    "        for name, default in zip(reversed(names), reversed(defaults)):\n",
    "            if not hasattr(self, name):\n",
    "                setattr(self, name, default)\n",
    "\n",
    "        func(self, *args, **kargs)\n",
    "\n",
    "    return wrapper\n",
    "#%%\n",
    "\n",
    "#fixed parameters\n",
    "QE = 0.55\n",
    "resolution_element=57#microns\n",
    "pixel_size = 13#microns\n",
    "Gain_ADU = 0.53 #e-/e-\n",
    "Throughput = 0.13\n",
    "Atmosphere = 0.5\n",
    "#\n",
    "# CIC_charge = 0.005 # e/pix/frame\n",
    "# Dard_current = 0.08 # e/pix/hour\n",
    "# Sky_LU = 10000 # 200 000 in 2018\n",
    "\n",
    "\n",
    "class Observation:\n",
    "    @initializer\n",
    "    def __init__(self, exposure_time=50, counting_mode=False, Signal=1.25E-17, EM_gain=1400, RN=109, CIC_charge=0.005, Dard_current=0.08, Sky_LU=10000, readout_time=1.5, flight_background_damping = 0.9, Additional_background_2018 = 0.0007,acquisition_time = 2,coeff_stack=2):\n",
    "        self.ENF = 2 if counting_mode else 1\n",
    "        if counting_mode:\n",
    "            self.Photon_count_loss = 0.7 if readout_time==1.5 else 0.8 #a contraindre...\n",
    "        else:\n",
    "            self.Photon_count_loss =  1\n",
    "        self.cosmic_ray_loss = np.minimum(0.005*exposure_time,1)\n",
    "        self.QE_efficiency = self.Photon_count_loss * QE#* (1-cosmic_ray_loss)#ne devrait pas etre la \n",
    "        self.RN_fraction_kept = 0.05 if counting_mode else 1\n",
    "        self.RN_final = RN  * self.RN_fraction_kept / EM_gain #Are we sure about that?\n",
    "        self.CIC_noise = np.sqrt(CIC_charge) if counting_mode else np.sqrt(CIC_charge*2)\n",
    "        self.Dark_current_f = Dard_current * exposure_time / 3600 # e/pix/frame\n",
    "        self.Dark_current_noise =  np.sqrt(self.Dark_current_f) if counting_mode else np.sqrt(self.Dark_current_f*2)\n",
    "        self.Additional_background = Additional_background_2018 * exposure_time *(1-flight_background_damping) # e/pix/f\n",
    "        self.Additional_background_noise = np.sqrt(self.Additional_background) if counting_mode else np.sqrt(self.Additional_background*2)\n",
    "        self.lu2ergs = 2.33E-19/1000\n",
    "        self.Sky_ = Sky_LU*self.lu2ergs#/1000*2.33E-19 # ergs/cm2/s/arcsec^2\n",
    "        self.factor_el = self.QE_efficiency * Throughput * Atmosphere*(1.1*np.pi/180/3600)**2*np.pi*100**2/4\n",
    "        self.sky = Sky_LU*self.factor_el*exposure_time  # el/pix/frame\n",
    "\n",
    "        self.Sky_f =  self.sky * EM_gain * Gain_ADU  # el/pix/frame\n",
    "        self.Sky_noise = np.sqrt(self.sky) if counting_mode else np.sqrt(self.sky*2)\n",
    "        self.N_images = acquisition_time*3600/(exposure_time+readout_time)\n",
    "        self.N_images_true = self.N_images * coeff_stack * (1-self.cosmic_ray_loss)\n",
    "        self.Total_sky = self.N_images_true * self.sky\n",
    "        self.sky_resolution = self.Total_sky * (resolution_element/pixel_size)**2# el/N exposure/resol\n",
    "        self.Signal_LU = Signal / self.lu2ergs# LU(self.Sky_/self.Sky_LU)#ergs/cm2/s/arcsec^2 \n",
    "        self.Signal_el = self.Signal_LU*self.factor_el*exposure_time  # el/pix/frame#     Signal * (sky / Sky_)  #el/pix\n",
    "        # print(Signal )\n",
    "        # print(self.Signal_LU )\n",
    "        # print(self.Signal_el )\n",
    "#         if counting_mode:\n",
    "#             print('%0.1f < ExpTime < %0.1f' %(0.01/factor_el/Signal_LU,0.1/factor_el/Signal_LU))\n",
    "    \n",
    "        self.Signal_resolution = self.Signal_el *self.N_images_true* (resolution_element/pixel_size)**2# el/N exposure/resol\n",
    "        self.eresolnframe2lu = self.Signal_LU/self.Signal_resolution\n",
    "        self.signal_noise = np.sqrt(self.Signal_el) if counting_mode else np.sqrt(self.Signal_el*2)     #el / resol/ N frame\n",
    "        self.signal_noise_resol = self.signal_noise *resolution_element/pixel_size   # el/resol/frame\n",
    "        self.signal_noise_nframe = self.signal_noise *np.sqrt(self.N_images_true)  # el/resol/frame\n",
    "        self.Total_noise_final = np.sqrt(self.signal_noise**2 + self.Dark_current_noise**2  + self.Additional_background_noise**2 + self.Sky_noise**2 + self.CIC_noise**2 + self.RN_final**2   ) #e/  pix/frame\n",
    "        self.factor = np.sqrt(self.N_images_true) * (resolution_element/pixel_size)\n",
    "        self.Total_noise_nframe = self.Total_noise_final * np.sqrt(self.N_images_true)\n",
    "        self.Total_noise_resol = self.Total_noise_nframe * (resolution_element/pixel_size)\n",
    "        self.SNR = self.Signal_resolution/self.Total_noise_resol\n",
    "  "
   ]
  },
  {
   "cell_type": "code",
   "execution_count": 61,
   "metadata": {},
   "outputs": [
    {
     "name": "stdout",
     "output_type": "stream",
     "text": [
      "[  1.           4.04081633   7.08163265  10.12244898  13.16326531\n",
      "  16.20408163  19.24489796  22.28571429  25.32653061  28.36734694\n",
      "  31.40816327  34.44897959  37.48979592  40.53061224  43.57142857\n",
      "  46.6122449   49.65306122  52.69387755  55.73469388  58.7755102\n",
      "  61.81632653  64.85714286  67.89795918  70.93877551  73.97959184\n",
      "  77.02040816  80.06122449  83.10204082  86.14285714  89.18367347\n",
      "  92.2244898   95.26530612  98.30612245 101.34693878 104.3877551\n",
      " 107.42857143 110.46938776 113.51020408 116.55102041 119.59183673\n",
      " 122.63265306 125.67346939 128.71428571 131.75510204 134.79591837\n",
      " 137.83673469 140.87755102 143.91836735 146.95918367 150.        ]\n",
      "[ 7.50301012 11.63933148 12.5910915  12.96425564 13.1289844  13.19472745\n",
      " 13.20543266 13.18216978 13.13629818 13.07447728 13.00086422 12.91818342\n",
      " 12.8282904  12.73248848 12.63171614 12.52666264 12.41784208 12.30564229\n",
      " 12.19035794 12.0722136  11.95137994 11.82798548 11.70212514 11.57386652\n",
      " 11.44325464 11.31031546 11.17505849 11.03747883 10.89755853 10.75526772\n",
      " 10.61056527 10.46339921 10.31370693 10.16141515 10.00643967  9.84868491\n",
      "  9.68804334  9.52439453  9.35760414  9.18752257  9.01398325  8.83680068\n",
      "  8.655768    8.47065403  8.28119965  8.08711346  7.88806637  7.68368487\n",
      "  7.47354269  7.25715017]\n"
     ]
    }
   ],
   "source": [
    "#Nominal = Observation(exposure_time=50,Sky_LU=np.linspace(1e4,1e6,100), counting_mode=False,Signal=4.55e-16,acquisition_time=0.2)#.PlotNoise(x='Sky_LU')\n",
    "Nominal = Observation(exposure_time=np.linspace(1,150),Sky_LU=1e4, counting_mode=False,Signal=4.55e-16,acquisition_time=0.2)#.PlotNoise(x='Sky_LU')\n",
    "\n",
    "print(Nominal.exposure_time)\n",
    "print(Nominal.SNR)"
   ]
  },
  {
   "cell_type": "code",
   "execution_count": 110,
   "metadata": {},
   "outputs": [
    {
     "data": {
      "application/vnd.jupyter.widget-view+json": {
       "model_id": "53519f9a418e4606a5b71785cc66c854",
       "version_major": 2,
       "version_minor": 0
      },
      "text/plain": [
       "interactive(children=(FloatSlider(value=505000.0, description='sky', max=1000000.0, min=10000.0, step=100.0), …"
      ]
     },
     "metadata": {},
     "output_type": "display_data"
    },
    {
     "data": {
      "application/vnd.jupyter.widget-view+json": {
       "model_id": "15338d8d43374e17ab7a9691adad9dca",
       "version_major": 2,
       "version_minor": 0
      },
      "text/plain": [
       "ExposureTimeCalulator()"
      ]
     },
     "metadata": {},
     "output_type": "display_data"
    },
    {
     "data": {
      "application/vnd.jupyter.widget-view+json": {
       "model_id": "beefb002fcc74f35915547e87bd153f3",
       "version_major": 2,
       "version_minor": 0
      },
      "image/png": "[encoded data removed]",
      "text/html": [
       "\n",
       "            <div style=\"display: inline-block;\">\n",
       "                <div class=\"jupyter-widgets widget-label\" style=\"text-align: center;\">\n",
       "                    Figure\n",
       "                </div>\n",
       "                <img src='data:image/png;base64,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' width=500.0/>\n",
       "            </div>\n",
       "        "
      ],
      "text/plain": [
       "Canvas(toolbar=Toolbar(toolitems=[('Home', 'Reset original view', 'home', 'home'), ('Back', 'Back to previous …"
      ]
     },
     "metadata": {},
     "output_type": "display_data"
    }
   ],
   "source": [
    "def make_box_layout():\n",
    "     return widgets.Layout(\n",
    "        border='solid 1px black',\n",
    "        margin='0px 10px 10px 0px',\n",
    "        padding='5px 5px 5px 5px'\n",
    "     )\n",
    " \n",
    "class ExposureTimeCalulator(widgets.HBox):\n",
    "     \n",
    "    def __init__(self):\n",
    "        super().__init__()\n",
    "        output = widgets.Output()\n",
    "        self.x = Nominal.exposure_time#np.linspace(0, 2 * np.pi, 100)\n",
    " \n",
    "        with output:\n",
    "            self.fig, self.ax = plt.subplots(constrained_layout=True, figsize=(5, 3.5))\n",
    "        self.line, = self.ax.plot(self.x, self.x)#Nominal.SNR)\n",
    "        self.fig.canvas.toolbar_position = 'bottom'\n",
    "        self.ax.set_ylim((0,50))\n",
    "        self.ax.set_ylabel('SNR')\n",
    "\n",
    "\n",
    "        # controls.layout = make_box_layout()\n",
    "         \n",
    "        out_box = widgets.Box([output])\n",
    "        output.layout = make_box_layout()\n",
    " \n",
    "        # observe stuff\n",
    "#         int_slider.observe(self.update, 'value')\n",
    "#         text_xlabel.observe(self.update_xlabel, 'value')\n",
    "#         text_ylabel.observe(self.update_ylabel, 'value')\n",
    "         \n",
    "#         text_xlabel.value = 'x'\n",
    "#         text_ylabel.value = 'y'\n",
    "        # acquisition_time = widgets.IntSlider( min=0.1, max=10, step=0.1)#, style = {'description_width': 'initial'})\n",
    "        widgets.interact(self.update,sky=(1e4, 1e6, 100),x_axis=['exposure_time','test'],acquisition_time=(0.1, 10, 0.1),counting_mode=False,Signal=(-18,-16,0.01),EM_gain=(200,2000,1),RN=(30,120,1), CIC_charge=(0.005,0.05,0.001), Dard_current=(0.08,0.2), readout_time=(1.5,15))\n",
    "    # def __init__(self, exposure_time=50, counting_mode=False, Signal=1.25E-17, EM_gain=1400, RN=109, CIC_charge=0.005, Dard_current=0.08, Sky_LU=10000, readout_time=1.5, flight_background_damping = 0.9, Additional_background_2018 = 0.0007,acquisition_time = 2,coeff_stack=2):\n",
    "\n",
    "\n",
    "        # add to children\n",
    "        # self.children = [controls, output]\n",
    "     \n",
    "    def update(self, sky,x_axis,acquisition_time,counting_mode,Signal,EM_gain,RN,CIC_charge,Dard_current,readout_time):\n",
    "        \"\"\"Draw line in plot\"\"\"\n",
    "        # print(sky)\n",
    "        new = Observation(exposure_time=np.linspace(1,150),Sky_LU=sky, acquisition_time=acquisition_time,counting_mode=counting_mode,Signal=10**Signal,EM_gain=EM_gain,RN=RN,CIC_charge=CIC_charge,Dard_current=Dard_current,readout_time=readout_time)\n",
    "        self.line.set_ydata(new.SNR)\n",
    "        self.ax.set_xlabel(x_axis)\n",
    "        self.ax.set_title('$t_{aqu}$:%0.1fh,G$_{EM}$:%i, Counting:%s - SNR$_{MAX}$=%0.1f'%(new.acquisition_time,new.EM_gain,new.counting_mode,np.max(new.SNR)))\n",
    "\n",
    "        # self.fig.canvas.draw()\n",
    " \n",
    "         \n",
    "ExposureTimeCalulator()"
   ]
  },
  {
   "cell_type": "code",
   "execution_count": null,
   "metadata": {},
   "outputs": [],
   "source": []
  }
 ],
 "metadata": {
  "kernelspec": {
   "display_name": "Python 3 (ipykernel)",
   "language": "python",
   "name": "python3"
  },
  "language_info": {
   "codemirror_mode": {
    "name": "ipython",
    "version": 3
   },
   "file_extension": ".py",
   "mimetype": "text/x-python",
   "name": "python",
   "nbconvert_exporter": "python",
   "pygments_lexer": "ipython3",
   "version": "3.8.3"
  }
 },
 "nbformat": 4,
 "nbformat_minor": 4
}
